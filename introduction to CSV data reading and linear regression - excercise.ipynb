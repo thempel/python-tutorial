{
 "cells": [
  {
   "cell_type": "markdown",
   "metadata": {},
   "source": [
    "# Michaelis-Menten-Kinetics computation\n",
    "This working example consists of spectrometric data for Michael-Menten kinetics, i.e. time series of absorption at a given wavelength. Measurements are conducted at defined concentrations and saved to single CSV-like files (\"comma separated values\"). The goal is to automatically extract the maximum reaction velocity of every measurement by a linear fit and to plot those as a function of the concentration. You should learn \n",
    "\n",
    "1) how to import this data. It's real word data, so loading it can be a little unpleasant. \n",
    "\n",
    "2) to plot the data with matplotlib.\n",
    "\n",
    "3) to do a linear fit and save the results.\n",
    "\n",
    "Please go through the notebook, check what is done and complete the fields denoted by `#FIXME`.\n",
    "\n",
    "## 0. Importing libraries\n",
    "As a first step, we import software packages that we need for our work. This will mainly be `numpy` for numerical computations, `matplotlib` for plotting and `csv` for data input. Please note the short notation of the modules given by `as`."
   ]
  },
  {
   "cell_type": "code",
   "execution_count": null,
   "metadata": {},
   "outputs": [],
   "source": [
    "import numpy as np\n",
    "import matplotlib.pyplot as plt\n",
    "%matplotlib inline\n",
    "import csv"
   ]
  },
  {
   "cell_type": "markdown",
   "metadata": {},
   "source": [
    "## 1. data I/O\n",
    "#### Let's check the content and how it can be loaded!\n",
    "Files are stored in the data subfolder. Let's check an example file before extracting actual values. The below lines open the file and read the content with the `csv` python package.\n",
    "\n",
    "##### Note:\n",
    "If you are completely new to programming, the following code might be a bit too complicated. In that case, take a look and skip to the next Cheating-point. "
   ]
  },
  {
   "cell_type": "code",
   "execution_count": null,
   "metadata": {
    "scrolled": true
   },
   "outputs": [],
   "source": [
    "file_name = 'data/30.txt'  # input file name (potentially write full path)\n",
    "with open(file_name, 'r') as file:  # open the file\n",
    "    reader = csv.reader(file, delimiter=' ')  # read the opened file with a csv reader.\n",
    "    for n, line in enumerate(reader):  # iterate over all rows\n",
    "        print('line #{}:'.format(n), line)"
   ]
  },
  {
   "cell_type": "markdown",
   "metadata": {},
   "source": [
    "We note that \n",
    "- the first and last lines don't contain data\n",
    "- the lines, encoded in the variable `line`, are actually lists.\n",
    "- the lines contain some empty fields\n",
    "- the elements are written in parenthesis, which means they are not stored as numbers but as strings i.e. text format\n",
    "- time format is not in seconds\n",
    "\n",
    "#### Let's create usable data from the content\n",
    "\n",
    "To get our data, we thus have to\n",
    "- exclude the first lines by defining a range of lines we want to read\n",
    "- save only the interesting elements of each line by putting column indices to the list, i.e. `line[0]` for the first element\n",
    "- convert the string (text format) number into a real number a.k.a. float by `float(string_number)`\n",
    "- convert the time format in seconds by defining the below function"
   ]
  },
  {
   "cell_type": "code",
   "execution_count": null,
   "metadata": {},
   "outputs": [],
   "source": [
    "def convert_time(hours_minutes_seconds_timestring):\n",
    "    n_hours = hours_minutes_seconds_timestring[0]\n",
    "    n_minutes = hours_minutes_seconds_timestring[2:4]\n",
    "    n_seconds = hours_minutes_seconds_timestring[5:]\n",
    "    return 60 * 60 * float(n_hours) + 60. * float(n_minutes) + float(n_seconds)\n",
    "print('This function converts {} to {} seconds.'.format('0:09:54', convert_time('0:09:54')))"
   ]
  },
  {
   "cell_type": "code",
   "execution_count": null,
   "metadata": {},
   "outputs": [],
   "source": [
    "first_line, last_line =  # FIXME\n",
    "time = []  # create empty lists for the columns\n",
    "values = []\n",
    "with open(file_name, 'r') as file:  # open the file\n",
    "    reader = csv.reader(file, delimiter=' ')  # read the opened file with a csv reader.\n",
    "\n",
    "    for n, line in enumerate(reader):  # iterate over all rows\n",
    "        if n >= first_line and n <= last_line:\n",
    "            time.append(convert_time(???))  # append converted time to list # FIXME: where is the time?\n",
    "            values.append(float(line[4]))  # append number representation of measurement value to list\n"
   ]
  },
  {
   "cell_type": "markdown",
   "metadata": {},
   "source": [
    "###### Cheating point (for beginners only!)\n",
    "Load the pre-processed data directly by uncommenting and executing the following line. "
   ]
  },
  {
   "cell_type": "code",
   "execution_count": null,
   "metadata": {},
   "outputs": [],
   "source": [
    "#time, values = np.loadtxt('data/task1.txt')"
   ]
  },
  {
   "cell_type": "markdown",
   "metadata": {},
   "source": [
    "## 2. Simple plotting"
   ]
  },
  {
   "cell_type": "code",
   "execution_count": null,
   "metadata": {},
   "outputs": [],
   "source": [
    "# FIXME: plot the data with the plt.plot() function\n",
    "plt.xlabel('time')\n",
    "plt.ylabel('values');"
   ]
  },
  {
   "cell_type": "markdown",
   "metadata": {},
   "source": [
    "## 3. Linear regression\n",
    "We can use already existing functions to do the linear regression (actually, most things you might need have already been implemented by someone... google is your friend). We use scipy, a scientific library, to achieve that."
   ]
  },
  {
   "cell_type": "code",
   "execution_count": null,
   "metadata": {},
   "outputs": [],
   "source": [
    "from scipy import stats"
   ]
  },
  {
   "cell_type": "markdown",
   "metadata": {},
   "source": [
    "Have a look into the manual for more details about `linregress`: https://docs.scipy.org/doc/scipy-0.14.0/reference/generated/scipy.stats.linregress.html\n",
    "##### IMPORTANT:\n",
    "Since the data is not linear and we only need to extract the starting velocity $V_0$, we have to restrict the fit to the first data points in the sample. We do this a colon in the list notation, e.g. `some_list[start:stop]`."
   ]
  },
  {
   "cell_type": "code",
   "execution_count": null,
   "metadata": {},
   "outputs": [],
   "source": [
    "slope, intercept, r_value, p_value, std_err = stats.linregress(time[:15], values[:15])"
   ]
  },
  {
   "cell_type": "markdown",
   "metadata": {},
   "source": [
    "#### print output of linregress"
   ]
  },
  {
   "cell_type": "code",
   "execution_count": null,
   "metadata": {},
   "outputs": [],
   "source": [
    "print('slope: ', np.round(slope, 4))\n",
    "print('intercept: ', np.round(intercept, 4))\n",
    "print('correlation coeff: ', np.round(r_value, 4))\n",
    "print('standard deviation: ', np.round(std_err, 4))"
   ]
  },
  {
   "cell_type": "markdown",
   "metadata": {},
   "source": [
    "#### plot the result\n",
    "To plot a function, we have to create arrays of data points from that function first. Just providing the functional form is not enough. Below, you find a simple definition of a function as an example."
   ]
  },
  {
   "cell_type": "code",
   "execution_count": null,
   "metadata": {},
   "outputs": [],
   "source": [
    "def linear_function(x, m, a):\n",
    "    return m * x + a"
   ]
  },
  {
   "cell_type": "code",
   "execution_count": null,
   "metadata": {},
   "outputs": [],
   "source": [
    "x = np.linspace(0, 30, 100)  # x axis data points\n",
    "y = linear_function(x, slope, intercept)\n",
    "\n",
    "# FIXME: plot the linear fit defined above!\n",
    "\n",
    "# copy pasted first plot:\n",
    "plt.plot(time, values, '.')\n",
    "plt.xlabel('time')\n",
    "plt.ylabel('values');"
   ]
  },
  {
   "cell_type": "markdown",
   "metadata": {},
   "source": [
    "## 4. Remarks:\n",
    "One non-obvious point at this point is that for the sake of simplicity, we have not spoken about data types. In this example, we used python lists and numpy arrays interchangeably. However, there are several very important differences that you should know about. \n",
    "\n",
    "##### Python list: `some_list = [1, 2, 3, 4]`\n",
    "- good: can be defined without knowing how large it will be, i.e. values are simply appended by `some_list.append(some_value)`\n",
    "- bad: one cannot do math operations on them, i.e. `some_list * another_list` does not work\n",
    "\n",
    "##### numpy arrays: `some_nparray = np.array([1, 2, 3, 4])`\n",
    "- good: can do math operations on them, i.e. elementwise multiplication `some_nparray * some_nparray` works.\n",
    "- good: higher dimensions, e.g. matrices, are possible and easy to handle\n",
    "- bad: appending values is not part of the idea\n",
    "- functions from numpy or scipy naturally return numpy arrays by default.\n",
    "\n",
    "##### recommendation:\n",
    "- use numpy arrays whenever possible. They can be initialized i.g. by `np.zeros(length)`.\n",
    "- if you don't know how, use a list and convert it into a numpy array by `np.array(some_list)`.\n",
    "- google is your friend\n",
    "\n",
    "## 5. DIY\n",
    "You might have noticed that this was only one file in a series of enzyme kinetics measurements. Load the other files and process them in a for loop in order to extract the starting velocities from each file. The list of volume concentrations (ordered as the input files) is given by (arbitrary units)\n",
    "```python\n",
    "vol_s = np.array([1,1,1,2,2,2,3,3,3,4,4,4,5,5,5,7,7,7,9,9,9,11,11,11,13,13,13,15,15,15, \\\n",
    "                  17,17,17,19,19,19,21,21,21,23,23,23,25,25,25,30,30,30])\n",
    "```\n",
    "After you have obtained the velocities, first check if the fits are okay. Then plot them as a function of the volume concentrations. (Extra task: If you still have time, extract the Michaelis-Menten constant from this.)\n",
    "\n",
    "#### Tips\n",
    "- file names are e.g. `data/0.txt`, ranging from 0 to 47 (which is contained in `range(48)`)\n",
    "- You might encounter the problem that the input data files have different lengths. Instead of terminating at a defined last line, check for the length of the line `len(line)` (have a look above how long the data containing lines should be).\n",
    "- with the given data set, it might be enough to use the first 5 data points for the linear fit of the maximum velocity...\n",
    "- again, if this is completely non-understandable to you, use the next Cheating point for loading the data."
   ]
  },
  {
   "cell_type": "code",
   "execution_count": null,
   "metadata": {},
   "outputs": [],
   "source": []
  },
  {
   "cell_type": "code",
   "execution_count": null,
   "metadata": {},
   "outputs": [],
   "source": []
  },
  {
   "cell_type": "markdown",
   "metadata": {},
   "source": [
    "##### Cheating-point\n",
    "You can load the pre-processed data for task 2 by uncommenting and executing the following cell. The following lines load each file into `time` and `values`. They will be overwritten at each iteration. You can use the data within this for-loop or store it into another list."
   ]
  },
  {
   "cell_type": "code",
   "execution_count": null,
   "metadata": {},
   "outputs": [],
   "source": [
    "#for file_n in range(48):\n",
    "#    time, values = np.loadtxt('data/task2_{}.txt'.format(file_n))"
   ]
  },
  {
   "cell_type": "code",
   "execution_count": null,
   "metadata": {},
   "outputs": [],
   "source": []
  },
  {
   "cell_type": "code",
   "execution_count": null,
   "metadata": {},
   "outputs": [],
   "source": []
  }
 ],
 "metadata": {
  "kernelspec": {
   "display_name": "Python 3",
   "language": "python",
   "name": "python3"
  },
  "language_info": {
   "codemirror_mode": {
    "name": "ipython",
    "version": 3
   },
   "file_extension": ".py",
   "mimetype": "text/x-python",
   "name": "python",
   "nbconvert_exporter": "python",
   "pygments_lexer": "ipython3",
   "version": "3.6.5"
  }
 },
 "nbformat": 4,
 "nbformat_minor": 2
}
